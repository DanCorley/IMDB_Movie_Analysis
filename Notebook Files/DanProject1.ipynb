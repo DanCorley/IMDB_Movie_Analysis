{
 "cells": [
  {
   "cell_type": "code",
   "execution_count": 378,
   "metadata": {},
   "outputs": [
    {
     "ename": "SyntaxError",
     "evalue": "invalid syntax (<ipython-input-378-0a518a5acc7c>, line 3)",
     "output_type": "error",
     "traceback": [
      "\u001b[0;36m  File \u001b[0;32m\"<ipython-input-378-0a518a5acc7c>\"\u001b[0;36m, line \u001b[0;32m3\u001b[0m\n\u001b[0;31m    from ../PY Files/ import Jeff\u001b[0m\n\u001b[0m           ^\u001b[0m\n\u001b[0;31mSyntaxError\u001b[0m\u001b[0;31m:\u001b[0m invalid syntax\n"
     ]
    }
   ],
   "source": [
    "# gzip *.zip\n",
    "# gunzip for gz"
   ]
  },
  {
   "cell_type": "code",
   "execution_count": 7,
   "metadata": {},
   "outputs": [],
   "source": [
    "# imbd_prin['tconst'] = imbd_prin['tconst'].str.replace(r'\\tt', '')\n",
    "# imbd_prin"
   ]
  },
  {
   "cell_type": "code",
   "execution_count": 3,
   "metadata": {},
   "outputs": [],
   "source": [
    "import pandas as pd\n",
    "import numpy as np\n",
    "import seaborn as sns\n",
    "%matplotlib inline"
   ]
  },
  {
   "cell_type": "code",
   "execution_count": 372,
   "metadata": {},
   "outputs": [],
   "source": [
    "bom = pd.read_csv('../Expanded CSVs/bom.movie_gross.csv')"
   ]
  },
  {
   "cell_type": "code",
   "execution_count": 369,
   "metadata": {},
   "outputs": [
    {
     "name": "stdout",
     "output_type": "stream",
     "text": [
      "<class 'pandas.core.frame.DataFrame'>\n",
      "RangeIndex: 3387 entries, 0 to 3386\n",
      "Data columns (total 5 columns):\n",
      "title             3387 non-null object\n",
      "studio            3382 non-null object\n",
      "domestic_gross    3359 non-null float64\n",
      "foreign_gross     2037 non-null object\n",
      "year              3387 non-null int64\n",
      "dtypes: float64(1), int64(1), object(3)\n",
      "memory usage: 132.4+ KB\n"
     ]
    }
   ],
   "source": [
    "bom.info()"
   ]
  },
  {
   "cell_type": "code",
   "execution_count": 364,
   "metadata": {},
   "outputs": [],
   "source": [
    "bom.foreign_gross = bom.foreign_gross.fillna(0)"
   ]
  },
  {
   "cell_type": "code",
   "execution_count": null,
   "metadata": {},
   "outputs": [],
   "source": []
  },
  {
   "cell_type": "code",
   "execution_count": 7,
   "metadata": {},
   "outputs": [],
   "source": [
    "tn = pd.read_csv('../Expanded CSVs/tn.movie_budgets.csv')"
   ]
  },
  {
   "cell_type": "code",
   "execution_count": 8,
   "metadata": {},
   "outputs": [
    {
     "data": {
      "text/html": [
       "<div>\n",
       "<style scoped>\n",
       "    .dataframe tbody tr th:only-of-type {\n",
       "        vertical-align: middle;\n",
       "    }\n",
       "\n",
       "    .dataframe tbody tr th {\n",
       "        vertical-align: top;\n",
       "    }\n",
       "\n",
       "    .dataframe thead th {\n",
       "        text-align: right;\n",
       "    }\n",
       "</style>\n",
       "<table border=\"1\" class=\"dataframe\">\n",
       "  <thead>\n",
       "    <tr style=\"text-align: right;\">\n",
       "      <th></th>\n",
       "      <th>id</th>\n",
       "      <th>release_date</th>\n",
       "      <th>movie</th>\n",
       "      <th>production_budget</th>\n",
       "      <th>domestic_gross</th>\n",
       "      <th>worldwide_gross</th>\n",
       "    </tr>\n",
       "  </thead>\n",
       "  <tbody>\n",
       "    <tr>\n",
       "      <td>4306</td>\n",
       "      <td>7</td>\n",
       "      <td>Oct 31, 2008</td>\n",
       "      <td>The Haunting of Molly Hartley</td>\n",
       "      <td>$5,000,000</td>\n",
       "      <td>$13,442,412</td>\n",
       "      <td>$15,318,257</td>\n",
       "    </tr>\n",
       "    <tr>\n",
       "      <td>3523</td>\n",
       "      <td>24</td>\n",
       "      <td>Dec 25, 2004</td>\n",
       "      <td>Darkness</td>\n",
       "      <td>$10,600,000</td>\n",
       "      <td>$22,163,442</td>\n",
       "      <td>$34,409,206</td>\n",
       "    </tr>\n",
       "  </tbody>\n",
       "</table>\n",
       "</div>"
      ],
      "text/plain": [
       "      id  release_date                          movie production_budget  \\\n",
       "4306   7  Oct 31, 2008  The Haunting of Molly Hartley        $5,000,000   \n",
       "3523  24  Dec 25, 2004                       Darkness       $10,600,000   \n",
       "\n",
       "     domestic_gross worldwide_gross  \n",
       "4306    $13,442,412     $15,318,257  \n",
       "3523    $22,163,442     $34,409,206  "
      ]
     },
     "execution_count": 8,
     "metadata": {},
     "output_type": "execute_result"
    }
   ],
   "source": [
    "tn.sample(2)"
   ]
  },
  {
   "cell_type": "code",
   "execution_count": 9,
   "metadata": {},
   "outputs": [],
   "source": [
    "tn['release_date'] = pd.to_datetime(tn['release_date'])"
   ]
  },
  {
   "cell_type": "code",
   "execution_count": 10,
   "metadata": {},
   "outputs": [],
   "source": [
    "tn['release_year'] = tn['release_date'].dt.year\n",
    "tn['release_month'] = tn['release_date'].dt.month"
   ]
  },
  {
   "cell_type": "code",
   "execution_count": 11,
   "metadata": {},
   "outputs": [
    {
     "name": "stdout",
     "output_type": "stream",
     "text": [
      "<class 'pandas.core.frame.DataFrame'>\n",
      "RangeIndex: 5782 entries, 0 to 5781\n",
      "Data columns (total 8 columns):\n",
      "id                   5782 non-null int64\n",
      "release_date         5782 non-null datetime64[ns]\n",
      "movie                5782 non-null object\n",
      "production_budget    5782 non-null object\n",
      "domestic_gross       5782 non-null object\n",
      "worldwide_gross      5782 non-null object\n",
      "release_year         5782 non-null int64\n",
      "release_month        5782 non-null int64\n",
      "dtypes: datetime64[ns](1), int64(3), object(4)\n",
      "memory usage: 361.5+ KB\n"
     ]
    }
   ],
   "source": [
    "tn.info()"
   ]
  },
  {
   "cell_type": "code",
   "execution_count": 14,
   "metadata": {},
   "outputs": [
    {
     "data": {
      "text/html": [
       "<div>\n",
       "<style scoped>\n",
       "    .dataframe tbody tr th:only-of-type {\n",
       "        vertical-align: middle;\n",
       "    }\n",
       "\n",
       "    .dataframe tbody tr th {\n",
       "        vertical-align: top;\n",
       "    }\n",
       "\n",
       "    .dataframe thead th {\n",
       "        text-align: right;\n",
       "    }\n",
       "</style>\n",
       "<table border=\"1\" class=\"dataframe\">\n",
       "  <thead>\n",
       "    <tr style=\"text-align: right;\">\n",
       "      <th></th>\n",
       "      <th>id</th>\n",
       "      <th>release_date</th>\n",
       "      <th>movie</th>\n",
       "      <th>production_budget</th>\n",
       "      <th>domestic_gross</th>\n",
       "      <th>worldwide_gross</th>\n",
       "      <th>release_year</th>\n",
       "      <th>release_month</th>\n",
       "    </tr>\n",
       "  </thead>\n",
       "  <tbody>\n",
       "    <tr>\n",
       "      <td>3422</td>\n",
       "      <td>23</td>\n",
       "      <td>2013-11-15</td>\n",
       "      <td>La grande bellezza</td>\n",
       "      <td>12000000</td>\n",
       "      <td>2883879</td>\n",
       "      <td>29549145</td>\n",
       "      <td>2013</td>\n",
       "      <td>11</td>\n",
       "    </tr>\n",
       "    <tr>\n",
       "      <td>3858</td>\n",
       "      <td>59</td>\n",
       "      <td>1951-02-23</td>\n",
       "      <td>Quo Vadis?</td>\n",
       "      <td>8250000</td>\n",
       "      <td>30000000</td>\n",
       "      <td>30028513</td>\n",
       "      <td>1951</td>\n",
       "      <td>2</td>\n",
       "    </tr>\n",
       "    <tr>\n",
       "      <td>4375</td>\n",
       "      <td>76</td>\n",
       "      <td>2008-05-30</td>\n",
       "      <td>Stuck</td>\n",
       "      <td>5000000</td>\n",
       "      <td>67505</td>\n",
       "      <td>67505</td>\n",
       "      <td>2008</td>\n",
       "      <td>5</td>\n",
       "    </tr>\n",
       "    <tr>\n",
       "      <td>746</td>\n",
       "      <td>47</td>\n",
       "      <td>2015-01-16</td>\n",
       "      <td>Blackhat</td>\n",
       "      <td>70000000</td>\n",
       "      <td>8005980</td>\n",
       "      <td>19665004</td>\n",
       "      <td>2015</td>\n",
       "      <td>1</td>\n",
       "    </tr>\n",
       "    <tr>\n",
       "      <td>3201</td>\n",
       "      <td>2</td>\n",
       "      <td>1999-05-14</td>\n",
       "      <td>Tea with Mussolini</td>\n",
       "      <td>14000000</td>\n",
       "      <td>14395874</td>\n",
       "      <td>14395874</td>\n",
       "      <td>1999</td>\n",
       "      <td>5</td>\n",
       "    </tr>\n",
       "  </tbody>\n",
       "</table>\n",
       "</div>"
      ],
      "text/plain": [
       "      id release_date               movie  production_budget  domestic_gross  \\\n",
       "3422  23   2013-11-15  La grande bellezza           12000000         2883879   \n",
       "3858  59   1951-02-23          Quo Vadis?            8250000        30000000   \n",
       "4375  76   2008-05-30               Stuck            5000000           67505   \n",
       "746   47   2015-01-16            Blackhat           70000000         8005980   \n",
       "3201   2   1999-05-14  Tea with Mussolini           14000000        14395874   \n",
       "\n",
       "      worldwide_gross  release_year  release_month  \n",
       "3422         29549145          2013             11  \n",
       "3858         30028513          1951              2  \n",
       "4375            67505          2008              5  \n",
       "746          19665004          2015              1  \n",
       "3201         14395874          1999              5  "
      ]
     },
     "execution_count": 14,
     "metadata": {},
     "output_type": "execute_result"
    }
   ],
   "source": [
    "#converting all of the dollar amounts to numbers\n",
    "tn['production_budget'] = tn['production_budget'].replace('[\\$,]','',regex=True).astype('int64')\n",
    "tn['domestic_gross'] = tn['domestic_gross'].replace('[\\$,]','',regex=True).astype('int64')\n",
    "tn['worldwide_gross'] = tn['worldwide_gross'].replace('[\\$,]','',regex=True).astype('int64')\n",
    "tn.sample(5)"
   ]
  },
  {
   "cell_type": "code",
   "execution_count": 21,
   "metadata": {},
   "outputs": [
    {
     "name": "stdout",
     "output_type": "stream",
     "text": [
      "<class 'pandas.core.frame.DataFrame'>\n",
      "RangeIndex: 5782 entries, 0 to 5781\n",
      "Data columns (total 8 columns):\n",
      "id                   5782 non-null int64\n",
      "release_date         5782 non-null datetime64[ns]\n",
      "movie                5782 non-null object\n",
      "production_budget    5782 non-null int64\n",
      "domestic_gross       5782 non-null int64\n",
      "worldwide_gross      5782 non-null int64\n",
      "release_year         5782 non-null int64\n",
      "release_month        5782 non-null int64\n",
      "dtypes: datetime64[ns](1), int64(6), object(1)\n",
      "memory usage: 361.5+ KB\n"
     ]
    }
   ],
   "source": [
    "tn.info()"
   ]
  },
  {
   "cell_type": "code",
   "execution_count": null,
   "metadata": {},
   "outputs": [],
   "source": []
  },
  {
   "cell_type": "code",
   "execution_count": 29,
   "metadata": {},
   "outputs": [],
   "source": [
    "rt_reviews = pd.read_csv('../Expanded CSVs/rt.reviews.tsv', sep='\\t', encoding='unicode_escape')\n",
    "rt_movie_info = pd.read_csv('../Expanded CSVs/rt.movie_info.tsv', sep='\\t')"
   ]
  },
  {
   "cell_type": "code",
   "execution_count": 30,
   "metadata": {},
   "outputs": [
    {
     "data": {
      "text/html": [
       "<div>\n",
       "<style scoped>\n",
       "    .dataframe tbody tr th:only-of-type {\n",
       "        vertical-align: middle;\n",
       "    }\n",
       "\n",
       "    .dataframe tbody tr th {\n",
       "        vertical-align: top;\n",
       "    }\n",
       "\n",
       "    .dataframe thead th {\n",
       "        text-align: right;\n",
       "    }\n",
       "</style>\n",
       "<table border=\"1\" class=\"dataframe\">\n",
       "  <thead>\n",
       "    <tr style=\"text-align: right;\">\n",
       "      <th></th>\n",
       "      <th>id</th>\n",
       "      <th>synopsis</th>\n",
       "      <th>rating</th>\n",
       "      <th>genre</th>\n",
       "      <th>director</th>\n",
       "      <th>writer</th>\n",
       "      <th>theater_date</th>\n",
       "      <th>dvd_date</th>\n",
       "      <th>currency</th>\n",
       "      <th>box_office</th>\n",
       "      <th>runtime</th>\n",
       "      <th>studio</th>\n",
       "    </tr>\n",
       "  </thead>\n",
       "  <tbody>\n",
       "    <tr>\n",
       "      <td>670</td>\n",
       "      <td>858</td>\n",
       "      <td>Jed Weintrob directed this look at how Interne...</td>\n",
       "      <td>R</td>\n",
       "      <td>Drama</td>\n",
       "      <td>Jed Weintrob</td>\n",
       "      <td>Jed Weintrob|Andrew Osborne</td>\n",
       "      <td>Sep 24, 2003</td>\n",
       "      <td>Feb 24, 2004</td>\n",
       "      <td>$</td>\n",
       "      <td>25,658</td>\n",
       "      <td>93 minutes</td>\n",
       "      <td>Indican Pictures</td>\n",
       "    </tr>\n",
       "    <tr>\n",
       "      <td>667</td>\n",
       "      <td>855</td>\n",
       "      <td>Between giving up his super powers, confrontin...</td>\n",
       "      <td>PG</td>\n",
       "      <td>Action and Adventure|Science Fiction and Fantasy</td>\n",
       "      <td>Richard Lester|Richard Donner</td>\n",
       "      <td>Mario Puzo|David Newman|Leslie Newman</td>\n",
       "      <td>Jun 19, 1981</td>\n",
       "      <td>May 1, 2001</td>\n",
       "      <td>NaN</td>\n",
       "      <td>NaN</td>\n",
       "      <td>127 minutes</td>\n",
       "      <td>NaN</td>\n",
       "    </tr>\n",
       "  </tbody>\n",
       "</table>\n",
       "</div>"
      ],
      "text/plain": [
       "      id                                           synopsis rating  \\\n",
       "670  858  Jed Weintrob directed this look at how Interne...      R   \n",
       "667  855  Between giving up his super powers, confrontin...     PG   \n",
       "\n",
       "                                                genre  \\\n",
       "670                                             Drama   \n",
       "667  Action and Adventure|Science Fiction and Fantasy   \n",
       "\n",
       "                          director                                 writer  \\\n",
       "670                   Jed Weintrob            Jed Weintrob|Andrew Osborne   \n",
       "667  Richard Lester|Richard Donner  Mario Puzo|David Newman|Leslie Newman   \n",
       "\n",
       "     theater_date      dvd_date currency box_office      runtime  \\\n",
       "670  Sep 24, 2003  Feb 24, 2004        $     25,658   93 minutes   \n",
       "667  Jun 19, 1981   May 1, 2001      NaN        NaN  127 minutes   \n",
       "\n",
       "               studio  \n",
       "670  Indican Pictures  \n",
       "667               NaN  "
      ]
     },
     "execution_count": 30,
     "metadata": {},
     "output_type": "execute_result"
    }
   ],
   "source": [
    "rt_movie_info.sample(2)"
   ]
  },
  {
   "cell_type": "code",
   "execution_count": 31,
   "metadata": {},
   "outputs": [
    {
     "name": "stdout",
     "output_type": "stream",
     "text": [
      "<class 'pandas.core.frame.DataFrame'>\n",
      "RangeIndex: 1560 entries, 0 to 1559\n",
      "Data columns (total 12 columns):\n",
      "id              1560 non-null int64\n",
      "synopsis        1498 non-null object\n",
      "rating          1557 non-null object\n",
      "genre           1552 non-null object\n",
      "director        1361 non-null object\n",
      "writer          1111 non-null object\n",
      "theater_date    1201 non-null object\n",
      "dvd_date        1201 non-null object\n",
      "currency        340 non-null object\n",
      "box_office      340 non-null object\n",
      "runtime         1530 non-null object\n",
      "studio          494 non-null object\n",
      "dtypes: int64(1), object(11)\n",
      "memory usage: 146.4+ KB\n"
     ]
    }
   ],
   "source": [
    "rt_movie_info.info()"
   ]
  },
  {
   "cell_type": "code",
   "execution_count": 32,
   "metadata": {},
   "outputs": [],
   "source": [
    "# convert to datetime formats\n",
    "rt_movie_info['theater_date'] = pd.to_datetime(rt_movie_info['theater_date'])\n",
    "rt_movie_info['dvd_date'] = pd.to_datetime(rt_movie_info['dvd_date'])"
   ]
  },
  {
   "cell_type": "code",
   "execution_count": 33,
   "metadata": {},
   "outputs": [],
   "source": [
    "# add year and month columns\n",
    "rt_movie_info['release_year'] = rt_movie_info['theater_date'].dt.year\n",
    "rt_movie_info['release_month'] = rt_movie_info['theater_date'].dt.month"
   ]
  },
  {
   "cell_type": "code",
   "execution_count": 34,
   "metadata": {},
   "outputs": [],
   "source": [
    "# fill all NaN values with 0 in 'box_office'\n",
    "rt_movie_info['box_office'].fillna(0, inplace=True)"
   ]
  },
  {
   "cell_type": "code",
   "execution_count": 367,
   "metadata": {},
   "outputs": [],
   "source": [
    "# remove the commas from 'box_office' and convert to int32 type\n",
    "rt_movie_info['box_office'] = rt_movie_info['box_office'].replace(',','',regex=True).astype('int64')"
   ]
  },
  {
   "cell_type": "code",
   "execution_count": 36,
   "metadata": {},
   "outputs": [
    {
     "data": {
      "text/plain": [
       "8261566.451282051"
      ]
     },
     "execution_count": 36,
     "metadata": {},
     "output_type": "execute_result"
    }
   ],
   "source": [
    "rt_movie_info['box_office'].mean()"
   ]
  },
  {
   "cell_type": "code",
   "execution_count": 300,
   "metadata": {},
   "outputs": [],
   "source": [
    "pd.set_option('display.max_columns', 300)"
   ]
  },
  {
   "cell_type": "code",
   "execution_count": 371,
   "metadata": {},
   "outputs": [
    {
     "data": {
      "text/html": [
       "<div>\n",
       "<style scoped>\n",
       "    .dataframe tbody tr th:only-of-type {\n",
       "        vertical-align: middle;\n",
       "    }\n",
       "\n",
       "    .dataframe tbody tr th {\n",
       "        vertical-align: top;\n",
       "    }\n",
       "\n",
       "    .dataframe thead th {\n",
       "        text-align: right;\n",
       "    }\n",
       "</style>\n",
       "<table border=\"1\" class=\"dataframe\">\n",
       "  <thead>\n",
       "    <tr style=\"text-align: right;\">\n",
       "      <th></th>\n",
       "      <th>id</th>\n",
       "      <th>synopsis</th>\n",
       "      <th>rating</th>\n",
       "      <th>genre</th>\n",
       "      <th>director</th>\n",
       "      <th>writer</th>\n",
       "      <th>theater_date</th>\n",
       "      <th>dvd_date</th>\n",
       "      <th>currency</th>\n",
       "      <th>box_office</th>\n",
       "      <th>runtime</th>\n",
       "      <th>studio</th>\n",
       "      <th>release_year</th>\n",
       "      <th>release_month</th>\n",
       "    </tr>\n",
       "  </thead>\n",
       "  <tbody>\n",
       "    <tr>\n",
       "      <td>0</td>\n",
       "      <td>1</td>\n",
       "      <td>This gritty, fast-paced, and innovative police...</td>\n",
       "      <td>R</td>\n",
       "      <td>Action and Adventure|Classics|Drama</td>\n",
       "      <td>William Friedkin</td>\n",
       "      <td>Ernest Tidyman</td>\n",
       "      <td>1971-10-09</td>\n",
       "      <td>2001-09-25</td>\n",
       "      <td>NaN</td>\n",
       "      <td>0</td>\n",
       "      <td>104 minutes</td>\n",
       "      <td>NaN</td>\n",
       "      <td>1971.0</td>\n",
       "      <td>10.0</td>\n",
       "    </tr>\n",
       "    <tr>\n",
       "      <td>1</td>\n",
       "      <td>3</td>\n",
       "      <td>New York City, not-too-distant-future: Eric Pa...</td>\n",
       "      <td>R</td>\n",
       "      <td>Drama|Science Fiction and Fantasy</td>\n",
       "      <td>David Cronenberg</td>\n",
       "      <td>David Cronenberg|Don DeLillo</td>\n",
       "      <td>2012-08-17</td>\n",
       "      <td>2013-01-01</td>\n",
       "      <td>$</td>\n",
       "      <td>600000</td>\n",
       "      <td>108 minutes</td>\n",
       "      <td>Entertainment One</td>\n",
       "      <td>2012.0</td>\n",
       "      <td>8.0</td>\n",
       "    </tr>\n",
       "    <tr>\n",
       "      <td>2</td>\n",
       "      <td>5</td>\n",
       "      <td>Illeana Douglas delivers a superb performance ...</td>\n",
       "      <td>R</td>\n",
       "      <td>Drama|Musical and Performing Arts</td>\n",
       "      <td>Allison Anders</td>\n",
       "      <td>Allison Anders</td>\n",
       "      <td>1996-09-13</td>\n",
       "      <td>2000-04-18</td>\n",
       "      <td>NaN</td>\n",
       "      <td>0</td>\n",
       "      <td>116 minutes</td>\n",
       "      <td>NaN</td>\n",
       "      <td>1996.0</td>\n",
       "      <td>9.0</td>\n",
       "    </tr>\n",
       "    <tr>\n",
       "      <td>3</td>\n",
       "      <td>6</td>\n",
       "      <td>Michael Douglas runs afoul of a treacherous su...</td>\n",
       "      <td>R</td>\n",
       "      <td>Drama|Mystery and Suspense</td>\n",
       "      <td>Barry Levinson</td>\n",
       "      <td>Paul Attanasio|Michael Crichton</td>\n",
       "      <td>1994-12-09</td>\n",
       "      <td>1997-08-27</td>\n",
       "      <td>NaN</td>\n",
       "      <td>0</td>\n",
       "      <td>128 minutes</td>\n",
       "      <td>NaN</td>\n",
       "      <td>1994.0</td>\n",
       "      <td>12.0</td>\n",
       "    </tr>\n",
       "    <tr>\n",
       "      <td>4</td>\n",
       "      <td>7</td>\n",
       "      <td>NaN</td>\n",
       "      <td>NR</td>\n",
       "      <td>Drama|Romance</td>\n",
       "      <td>Rodney Bennett</td>\n",
       "      <td>Giles Cooper</td>\n",
       "      <td>NaT</td>\n",
       "      <td>NaT</td>\n",
       "      <td>NaN</td>\n",
       "      <td>0</td>\n",
       "      <td>200 minutes</td>\n",
       "      <td>NaN</td>\n",
       "      <td>NaN</td>\n",
       "      <td>NaN</td>\n",
       "    </tr>\n",
       "  </tbody>\n",
       "</table>\n",
       "</div>"
      ],
      "text/plain": [
       "   id                                           synopsis rating  \\\n",
       "0   1  This gritty, fast-paced, and innovative police...      R   \n",
       "1   3  New York City, not-too-distant-future: Eric Pa...      R   \n",
       "2   5  Illeana Douglas delivers a superb performance ...      R   \n",
       "3   6  Michael Douglas runs afoul of a treacherous su...      R   \n",
       "4   7                                                NaN     NR   \n",
       "\n",
       "                                 genre          director  \\\n",
       "0  Action and Adventure|Classics|Drama  William Friedkin   \n",
       "1    Drama|Science Fiction and Fantasy  David Cronenberg   \n",
       "2    Drama|Musical and Performing Arts    Allison Anders   \n",
       "3           Drama|Mystery and Suspense    Barry Levinson   \n",
       "4                        Drama|Romance    Rodney Bennett   \n",
       "\n",
       "                            writer theater_date   dvd_date currency  \\\n",
       "0                   Ernest Tidyman   1971-10-09 2001-09-25      NaN   \n",
       "1     David Cronenberg|Don DeLillo   2012-08-17 2013-01-01        $   \n",
       "2                   Allison Anders   1996-09-13 2000-04-18      NaN   \n",
       "3  Paul Attanasio|Michael Crichton   1994-12-09 1997-08-27      NaN   \n",
       "4                     Giles Cooper          NaT        NaT      NaN   \n",
       "\n",
       "   box_office      runtime             studio  release_year  release_month  \n",
       "0           0  104 minutes                NaN        1971.0           10.0  \n",
       "1      600000  108 minutes  Entertainment One        2012.0            8.0  \n",
       "2           0  116 minutes                NaN        1996.0            9.0  \n",
       "3           0  128 minutes                NaN        1994.0           12.0  \n",
       "4           0  200 minutes                NaN           NaN            NaN  "
      ]
     },
     "execution_count": 371,
     "metadata": {},
     "output_type": "execute_result"
    }
   ],
   "source": [
    "# filter out movies\n",
    "rt_movie_info[rt_movie_info.groupby('genre')['genre'].transform('count') > 1].head()"
   ]
  },
  {
   "cell_type": "code",
   "execution_count": 89,
   "metadata": {},
   "outputs": [
    {
     "name": "stdout",
     "output_type": "stream",
     "text": [
      "<class 'pandas.core.frame.DataFrame'>\n",
      "RangeIndex: 1560 entries, 0 to 1559\n",
      "Data columns (total 14 columns):\n",
      "id               1560 non-null int64\n",
      "synopsis         1498 non-null object\n",
      "rating           1557 non-null object\n",
      "genre            1552 non-null object\n",
      "director         1361 non-null object\n",
      "writer           1111 non-null object\n",
      "theater_date     1201 non-null datetime64[ns]\n",
      "dvd_date         1201 non-null datetime64[ns]\n",
      "currency         340 non-null object\n",
      "box_office       1560 non-null int32\n",
      "runtime          1530 non-null object\n",
      "studio           494 non-null object\n",
      "release_year     1201 non-null float64\n",
      "release_month    1201 non-null float64\n",
      "dtypes: datetime64[ns](2), float64(2), int32(1), int64(1), object(8)\n",
      "memory usage: 164.7+ KB\n"
     ]
    }
   ],
   "source": [
    "rt_movie_info.info()"
   ]
  },
  {
   "cell_type": "code",
   "execution_count": null,
   "metadata": {},
   "outputs": [],
   "source": []
  },
  {
   "cell_type": "code",
   "execution_count": 37,
   "metadata": {},
   "outputs": [
    {
     "data": {
      "text/html": [
       "<div>\n",
       "<style scoped>\n",
       "    .dataframe tbody tr th:only-of-type {\n",
       "        vertical-align: middle;\n",
       "    }\n",
       "\n",
       "    .dataframe tbody tr th {\n",
       "        vertical-align: top;\n",
       "    }\n",
       "\n",
       "    .dataframe thead th {\n",
       "        text-align: right;\n",
       "    }\n",
       "</style>\n",
       "<table border=\"1\" class=\"dataframe\">\n",
       "  <thead>\n",
       "    <tr style=\"text-align: right;\">\n",
       "      <th></th>\n",
       "      <th>id</th>\n",
       "      <th>synopsis</th>\n",
       "      <th>rating</th>\n",
       "      <th>genre</th>\n",
       "      <th>director</th>\n",
       "      <th>writer</th>\n",
       "      <th>theater_date</th>\n",
       "      <th>dvd_date</th>\n",
       "      <th>currency</th>\n",
       "      <th>box_office</th>\n",
       "      <th>runtime</th>\n",
       "      <th>studio</th>\n",
       "      <th>release_year</th>\n",
       "      <th>release_month</th>\n",
       "    </tr>\n",
       "  </thead>\n",
       "  <tbody>\n",
       "    <tr>\n",
       "      <td>260</td>\n",
       "      <td>338</td>\n",
       "      <td>\"Hereafter\" tells the story of three people wh...</td>\n",
       "      <td>PG-13</td>\n",
       "      <td>Drama|Mystery and Suspense</td>\n",
       "      <td>Clint Eastwood</td>\n",
       "      <td>Peter Morgan</td>\n",
       "      <td>2010-10-22</td>\n",
       "      <td>2011-03-15</td>\n",
       "      <td>$</td>\n",
       "      <td>32741596</td>\n",
       "      <td>126 minutes</td>\n",
       "      <td>Warner Bros. Pictures</td>\n",
       "      <td>2010.0</td>\n",
       "      <td>10.0</td>\n",
       "    </tr>\n",
       "    <tr>\n",
       "      <td>368</td>\n",
       "      <td>478</td>\n",
       "      <td>Tinto Brass scored his first major internation...</td>\n",
       "      <td>R</td>\n",
       "      <td>Art House and International|Cult Movies|Drama</td>\n",
       "      <td>Tinto Brass</td>\n",
       "      <td>Tinto Brass|Ennio De Concini|Maria Pia Fusco</td>\n",
       "      <td>1976-12-31</td>\n",
       "      <td>2006-09-12</td>\n",
       "      <td>NaN</td>\n",
       "      <td>0</td>\n",
       "      <td>110 minutes</td>\n",
       "      <td>NaN</td>\n",
       "      <td>1976.0</td>\n",
       "      <td>12.0</td>\n",
       "    </tr>\n",
       "    <tr>\n",
       "      <td>1295</td>\n",
       "      <td>1673</td>\n",
       "      <td>Capo di tutti-frutti: Mob biggie is captured a...</td>\n",
       "      <td>R</td>\n",
       "      <td>Action and Adventure|Comedy|Drama|Mystery and ...</td>\n",
       "      <td>NaN</td>\n",
       "      <td>Gina Goldman|Josh McKinney|Wayne Rice</td>\n",
       "      <td>1997-04-17</td>\n",
       "      <td>1998-10-20</td>\n",
       "      <td>NaN</td>\n",
       "      <td>0</td>\n",
       "      <td>106 minutes</td>\n",
       "      <td>NaN</td>\n",
       "      <td>1997.0</td>\n",
       "      <td>4.0</td>\n",
       "    </tr>\n",
       "    <tr>\n",
       "      <td>1038</td>\n",
       "      <td>1342</td>\n",
       "      <td>It is not easy being a 9 year old in a new cou...</td>\n",
       "      <td>PG</td>\n",
       "      <td>Action and Adventure|Comedy|Kids and Family</td>\n",
       "      <td>Uli Edel|Ulrich Edel</td>\n",
       "      <td>Karey Kirkpatrick|Larry Wilson|Nicholas Waller</td>\n",
       "      <td>2000-10-27</td>\n",
       "      <td>2001-03-06</td>\n",
       "      <td>$</td>\n",
       "      <td>13432508</td>\n",
       "      <td>105 minutes</td>\n",
       "      <td>New Line Cinema</td>\n",
       "      <td>2000.0</td>\n",
       "      <td>10.0</td>\n",
       "    </tr>\n",
       "    <tr>\n",
       "      <td>1299</td>\n",
       "      <td>1679</td>\n",
       "      <td>NaN</td>\n",
       "      <td>NR</td>\n",
       "      <td>Horror</td>\n",
       "      <td>NaN</td>\n",
       "      <td>NaN</td>\n",
       "      <td>NaT</td>\n",
       "      <td>NaT</td>\n",
       "      <td>NaN</td>\n",
       "      <td>0</td>\n",
       "      <td>97 minutes</td>\n",
       "      <td>NaN</td>\n",
       "      <td>NaN</td>\n",
       "      <td>NaN</td>\n",
       "    </tr>\n",
       "  </tbody>\n",
       "</table>\n",
       "</div>"
      ],
      "text/plain": [
       "        id                                           synopsis rating  \\\n",
       "260    338  \"Hereafter\" tells the story of three people wh...  PG-13   \n",
       "368    478  Tinto Brass scored his first major internation...      R   \n",
       "1295  1673  Capo di tutti-frutti: Mob biggie is captured a...      R   \n",
       "1038  1342  It is not easy being a 9 year old in a new cou...     PG   \n",
       "1299  1679                                                NaN     NR   \n",
       "\n",
       "                                                  genre              director  \\\n",
       "260                          Drama|Mystery and Suspense        Clint Eastwood   \n",
       "368       Art House and International|Cult Movies|Drama           Tinto Brass   \n",
       "1295  Action and Adventure|Comedy|Drama|Mystery and ...                   NaN   \n",
       "1038        Action and Adventure|Comedy|Kids and Family  Uli Edel|Ulrich Edel   \n",
       "1299                                             Horror                   NaN   \n",
       "\n",
       "                                              writer theater_date   dvd_date  \\\n",
       "260                                     Peter Morgan   2010-10-22 2011-03-15   \n",
       "368     Tinto Brass|Ennio De Concini|Maria Pia Fusco   1976-12-31 2006-09-12   \n",
       "1295           Gina Goldman|Josh McKinney|Wayne Rice   1997-04-17 1998-10-20   \n",
       "1038  Karey Kirkpatrick|Larry Wilson|Nicholas Waller   2000-10-27 2001-03-06   \n",
       "1299                                             NaN          NaT        NaT   \n",
       "\n",
       "     currency  box_office      runtime                 studio  release_year  \\\n",
       "260         $    32741596  126 minutes  Warner Bros. Pictures        2010.0   \n",
       "368       NaN           0  110 minutes                    NaN        1976.0   \n",
       "1295      NaN           0  106 minutes                    NaN        1997.0   \n",
       "1038        $    13432508  105 minutes        New Line Cinema        2000.0   \n",
       "1299      NaN           0   97 minutes                    NaN           NaN   \n",
       "\n",
       "      release_month  \n",
       "260            10.0  \n",
       "368            12.0  \n",
       "1295            4.0  \n",
       "1038           10.0  \n",
       "1299            NaN  "
      ]
     },
     "execution_count": 37,
     "metadata": {},
     "output_type": "execute_result"
    }
   ],
   "source": [
    "rt_movie_info.sample(5)"
   ]
  },
  {
   "cell_type": "code",
   "execution_count": 340,
   "metadata": {},
   "outputs": [
    {
     "data": {
      "text/plain": [
       "Drama                                151\n",
       "Comedy                               110\n",
       "Comedy|Drama                          80\n",
       "Drama|Mystery and Suspense            67\n",
       "Art House and International|Drama     62\n",
       "Name: genre, dtype: int64"
      ]
     },
     "execution_count": 340,
     "metadata": {},
     "output_type": "execute_result"
    }
   ],
   "source": [
    "# filter movies after 1990\n",
    "rt = rt_movie_info.copy() #[rt_movie_info['release_year'] > 1990]\n",
    "\n",
    "# filter movies that genres have genre.value_counts < 1\n",
    "rt = rt[rt.groupby('genre')['genre'].transform('count') > 5]"
   ]
  },
  {
   "cell_type": "code",
   "execution_count": 314,
   "metadata": {},
   "outputs": [
    {
     "data": {
      "image/png": "[encoded data removed]",
      "text/plain": [
       "<Figure size 432x288 with 1 Axes>"
      ]
     },
     "metadata": {
      "needs_background": "light"
     },
     "output_type": "display_data"
    }
   ],
   "source": [
    "sns.lineplot(x=\"release_year\", y=\"box_office\", data=rt, ci=None, hue='genre');"
   ]
  },
  {
   "cell_type": "code",
   "execution_count": 330,
   "metadata": {},
   "outputs": [
    {
     "data": {
      "text/plain": [
       "id                                                                        519533\n",
       "rating                         RRPG-13RRNRRRRRPG-13RRRRRPGNRRRRPG-13RRPG-13RR...\n",
       "genre                          Drama|Musical and Performing ArtsDrama|Mystery...\n",
       "box_office                                                            9197461070\n",
       "release_year                                                         1.01217e+06\n",
       "release_month                                                               3351\n",
       "Special Interest                                                               6\n",
       "Science Fiction and Fantasy                                                   13\n",
       "Mystery and Suspense                                                          98\n",
       "Kids and Family                                                               16\n",
       "Romance                                                                       61\n",
       "Art House and International                                                   53\n",
       "Comedy                                                                       212\n",
       "Musical and Performing Arts                                                   14\n",
       "Horror                                                                        23\n",
       "Drama                                                                        324\n",
       "Animation                                                                      7\n",
       "Documentary                                                                   13\n",
       "Action and Adventure                                                          75\n",
       "dtype: object"
      ]
     },
     "execution_count": 330,
     "metadata": {},
     "output_type": "execute_result"
    }
   ],
   "source": [
    "rt.sum()"
   ]
  },
  {
   "cell_type": "code",
   "execution_count": 315,
   "metadata": {},
   "outputs": [
    {
     "data": {
      "text/plain": [
       "Index(['id', 'synopsis', 'rating', 'genre', 'director', 'writer',\n",
       "       'theater_date', 'dvd_date', 'currency', 'box_office', 'runtime',\n",
       "       'studio', 'release_year', 'release_month'],\n",
       "      dtype='object')"
      ]
     },
     "execution_count": 315,
     "metadata": {},
     "output_type": "execute_result"
    }
   ],
   "source": [
    "rt.columns"
   ]
  },
  {
   "cell_type": "code",
   "execution_count": 381,
   "metadata": {},
   "outputs": [
    {
     "data": {
      "text/plain": [
       "{'Action and Adventure',\n",
       " 'Animation',\n",
       " 'Art House and International',\n",
       " 'Classics',\n",
       " 'Comedy',\n",
       " 'Documentary',\n",
       " 'Drama',\n",
       " 'Horror',\n",
       " 'Kids and Family',\n",
       " 'Musical and Performing Arts',\n",
       " 'Mystery and Suspense',\n",
       " 'Romance',\n",
       " 'Science Fiction and Fantasy',\n",
       " 'Special Interest',\n",
       " 'Television',\n",
       " 'Western'}"
      ]
     },
     "execution_count": 381,
     "metadata": {},
     "output_type": "execute_result"
    }
   ],
   "source": [
    "# [a.split('|') for a in rt['genre']]\n",
    "# [y for x in list_of_lists for y in x]\n",
    "\n",
    "set_of_lists = set([y for x in [a.split('|') for a in rt['genre']] for y in x])\n",
    "set_of_lists"
   ]
  },
  {
   "cell_type": "code",
   "execution_count": 334,
   "metadata": {},
   "outputs": [],
   "source": [
    "# [a.split('|') for a in rt['genre']]"
   ]
  },
  {
   "cell_type": "code",
   "execution_count": 382,
   "metadata": {},
   "outputs": [],
   "source": [
    "# for x in rt['genre']:\n",
    "#     print(x.split('|'))\n",
    "\n",
    "\n",
    "def genre_finder(genre, cell):\n",
    "    if genre in cell:\n",
    "        return 1\n",
    "    return 0\n",
    "\n",
    "def column_creator(set_of_lists):\n",
    "    for genre in set_of_lists:\n",
    "        rt[genre] = rt['genre'].map(lambda cell: genre_finder(genre, cell))"
   ]
  },
  {
   "cell_type": "code",
   "execution_count": 383,
   "metadata": {},
   "outputs": [],
   "source": [
    "column_creator(set_of_lists)"
   ]
  },
  {
   "cell_type": "code",
   "execution_count": 384,
   "metadata": {},
   "outputs": [
    {
     "data": {
      "text/html": [
       "<div>\n",
       "<style scoped>\n",
       "    .dataframe tbody tr th:only-of-type {\n",
       "        vertical-align: middle;\n",
       "    }\n",
       "\n",
       "    .dataframe tbody tr th {\n",
       "        vertical-align: top;\n",
       "    }\n",
       "\n",
       "    .dataframe thead th {\n",
       "        text-align: right;\n",
       "    }\n",
       "</style>\n",
       "<table border=\"1\" class=\"dataframe\">\n",
       "  <thead>\n",
       "    <tr style=\"text-align: right;\">\n",
       "      <th></th>\n",
       "      <th>id</th>\n",
       "      <th>synopsis</th>\n",
       "      <th>rating</th>\n",
       "      <th>genre</th>\n",
       "      <th>director</th>\n",
       "      <th>writer</th>\n",
       "      <th>theater_date</th>\n",
       "      <th>dvd_date</th>\n",
       "      <th>currency</th>\n",
       "      <th>box_office</th>\n",
       "      <th>runtime</th>\n",
       "      <th>studio</th>\n",
       "      <th>release_year</th>\n",
       "      <th>release_month</th>\n",
       "      <th>Television</th>\n",
       "      <th>Special Interest</th>\n",
       "      <th>Science Fiction and Fantasy</th>\n",
       "      <th>Mystery and Suspense</th>\n",
       "      <th>Classics</th>\n",
       "      <th>Romance</th>\n",
       "      <th>Kids and Family</th>\n",
       "      <th>Comedy</th>\n",
       "      <th>Musical and Performing Arts</th>\n",
       "      <th>Western</th>\n",
       "      <th>Art House and International</th>\n",
       "      <th>Horror</th>\n",
       "      <th>Drama</th>\n",
       "      <th>Animation</th>\n",
       "      <th>Documentary</th>\n",
       "      <th>Action and Adventure</th>\n",
       "    </tr>\n",
       "  </thead>\n",
       "  <tbody>\n",
       "    <tr>\n",
       "      <td>1</td>\n",
       "      <td>3</td>\n",
       "      <td>New York City, not-too-distant-future: Eric Pa...</td>\n",
       "      <td>R</td>\n",
       "      <td>Drama|Science Fiction and Fantasy</td>\n",
       "      <td>David Cronenberg</td>\n",
       "      <td>David Cronenberg|Don DeLillo</td>\n",
       "      <td>2012-08-17</td>\n",
       "      <td>2013-01-01</td>\n",
       "      <td>$</td>\n",
       "      <td>600000</td>\n",
       "      <td>108 minutes</td>\n",
       "      <td>Entertainment One</td>\n",
       "      <td>2012.0</td>\n",
       "      <td>8.0</td>\n",
       "      <td>0</td>\n",
       "      <td>0</td>\n",
       "      <td>1</td>\n",
       "      <td>0</td>\n",
       "      <td>0</td>\n",
       "      <td>0</td>\n",
       "      <td>0</td>\n",
       "      <td>0</td>\n",
       "      <td>0</td>\n",
       "      <td>0</td>\n",
       "      <td>0</td>\n",
       "      <td>0</td>\n",
       "      <td>1</td>\n",
       "      <td>0</td>\n",
       "      <td>0</td>\n",
       "      <td>0</td>\n",
       "    </tr>\n",
       "    <tr>\n",
       "      <td>2</td>\n",
       "      <td>5</td>\n",
       "      <td>Illeana Douglas delivers a superb performance ...</td>\n",
       "      <td>R</td>\n",
       "      <td>Drama|Musical and Performing Arts</td>\n",
       "      <td>Allison Anders</td>\n",
       "      <td>Allison Anders</td>\n",
       "      <td>1996-09-13</td>\n",
       "      <td>2000-04-18</td>\n",
       "      <td>NaN</td>\n",
       "      <td>0</td>\n",
       "      <td>116 minutes</td>\n",
       "      <td>NaN</td>\n",
       "      <td>1996.0</td>\n",
       "      <td>9.0</td>\n",
       "      <td>0</td>\n",
       "      <td>0</td>\n",
       "      <td>0</td>\n",
       "      <td>0</td>\n",
       "      <td>0</td>\n",
       "      <td>0</td>\n",
       "      <td>0</td>\n",
       "      <td>0</td>\n",
       "      <td>1</td>\n",
       "      <td>0</td>\n",
       "      <td>0</td>\n",
       "      <td>0</td>\n",
       "      <td>1</td>\n",
       "      <td>0</td>\n",
       "      <td>0</td>\n",
       "      <td>0</td>\n",
       "    </tr>\n",
       "    <tr>\n",
       "      <td>3</td>\n",
       "      <td>6</td>\n",
       "      <td>Michael Douglas runs afoul of a treacherous su...</td>\n",
       "      <td>R</td>\n",
       "      <td>Drama|Mystery and Suspense</td>\n",
       "      <td>Barry Levinson</td>\n",
       "      <td>Paul Attanasio|Michael Crichton</td>\n",
       "      <td>1994-12-09</td>\n",
       "      <td>1997-08-27</td>\n",
       "      <td>NaN</td>\n",
       "      <td>0</td>\n",
       "      <td>128 minutes</td>\n",
       "      <td>NaN</td>\n",
       "      <td>1994.0</td>\n",
       "      <td>12.0</td>\n",
       "      <td>0</td>\n",
       "      <td>0</td>\n",
       "      <td>0</td>\n",
       "      <td>1</td>\n",
       "      <td>0</td>\n",
       "      <td>0</td>\n",
       "      <td>0</td>\n",
       "      <td>0</td>\n",
       "      <td>0</td>\n",
       "      <td>0</td>\n",
       "      <td>0</td>\n",
       "      <td>0</td>\n",
       "      <td>1</td>\n",
       "      <td>0</td>\n",
       "      <td>0</td>\n",
       "      <td>0</td>\n",
       "    </tr>\n",
       "    <tr>\n",
       "      <td>4</td>\n",
       "      <td>7</td>\n",
       "      <td>NaN</td>\n",
       "      <td>NR</td>\n",
       "      <td>Drama|Romance</td>\n",
       "      <td>Rodney Bennett</td>\n",
       "      <td>Giles Cooper</td>\n",
       "      <td>NaT</td>\n",
       "      <td>NaT</td>\n",
       "      <td>NaN</td>\n",
       "      <td>0</td>\n",
       "      <td>200 minutes</td>\n",
       "      <td>NaN</td>\n",
       "      <td>NaN</td>\n",
       "      <td>NaN</td>\n",
       "      <td>0</td>\n",
       "      <td>0</td>\n",
       "      <td>0</td>\n",
       "      <td>0</td>\n",
       "      <td>0</td>\n",
       "      <td>1</td>\n",
       "      <td>0</td>\n",
       "      <td>0</td>\n",
       "      <td>0</td>\n",
       "      <td>0</td>\n",
       "      <td>0</td>\n",
       "      <td>0</td>\n",
       "      <td>1</td>\n",
       "      <td>0</td>\n",
       "      <td>0</td>\n",
       "      <td>0</td>\n",
       "    </tr>\n",
       "    <tr>\n",
       "      <td>6</td>\n",
       "      <td>10</td>\n",
       "      <td>Some cast and crew from NBC's highly acclaimed...</td>\n",
       "      <td>PG-13</td>\n",
       "      <td>Comedy</td>\n",
       "      <td>Jake Kasdan</td>\n",
       "      <td>Mike White</td>\n",
       "      <td>2002-01-11</td>\n",
       "      <td>2002-06-18</td>\n",
       "      <td>$</td>\n",
       "      <td>41032915</td>\n",
       "      <td>82 minutes</td>\n",
       "      <td>Paramount Pictures</td>\n",
       "      <td>2002.0</td>\n",
       "      <td>1.0</td>\n",
       "      <td>0</td>\n",
       "      <td>0</td>\n",
       "      <td>0</td>\n",
       "      <td>0</td>\n",
       "      <td>0</td>\n",
       "      <td>0</td>\n",
       "      <td>0</td>\n",
       "      <td>1</td>\n",
       "      <td>0</td>\n",
       "      <td>0</td>\n",
       "      <td>0</td>\n",
       "      <td>0</td>\n",
       "      <td>0</td>\n",
       "      <td>0</td>\n",
       "      <td>0</td>\n",
       "      <td>0</td>\n",
       "    </tr>\n",
       "  </tbody>\n",
       "</table>\n",
       "</div>"
      ],
      "text/plain": [
       "   id                                           synopsis rating  \\\n",
       "1   3  New York City, not-too-distant-future: Eric Pa...      R   \n",
       "2   5  Illeana Douglas delivers a superb performance ...      R   \n",
       "3   6  Michael Douglas runs afoul of a treacherous su...      R   \n",
       "4   7                                                NaN     NR   \n",
       "6  10  Some cast and crew from NBC's highly acclaimed...  PG-13   \n",
       "\n",
       "                               genre          director  \\\n",
       "1  Drama|Science Fiction and Fantasy  David Cronenberg   \n",
       "2  Drama|Musical and Performing Arts    Allison Anders   \n",
       "3         Drama|Mystery and Suspense    Barry Levinson   \n",
       "4                      Drama|Romance    Rodney Bennett   \n",
       "6                             Comedy       Jake Kasdan   \n",
       "\n",
       "                            writer theater_date   dvd_date currency  \\\n",
       "1     David Cronenberg|Don DeLillo   2012-08-17 2013-01-01        $   \n",
       "2                   Allison Anders   1996-09-13 2000-04-18      NaN   \n",
       "3  Paul Attanasio|Michael Crichton   1994-12-09 1997-08-27      NaN   \n",
       "4                     Giles Cooper          NaT        NaT      NaN   \n",
       "6                       Mike White   2002-01-11 2002-06-18        $   \n",
       "\n",
       "   box_office      runtime              studio  release_year  release_month  \\\n",
       "1      600000  108 minutes   Entertainment One        2012.0            8.0   \n",
       "2           0  116 minutes                 NaN        1996.0            9.0   \n",
       "3           0  128 minutes                 NaN        1994.0           12.0   \n",
       "4           0  200 minutes                 NaN           NaN            NaN   \n",
       "6    41032915   82 minutes  Paramount Pictures        2002.0            1.0   \n",
       "\n",
       "   Television  Special Interest  Science Fiction and Fantasy  \\\n",
       "1           0                 0                            1   \n",
       "2           0                 0                            0   \n",
       "3           0                 0                            0   \n",
       "4           0                 0                            0   \n",
       "6           0                 0                            0   \n",
       "\n",
       "   Mystery and Suspense  Classics  Romance  Kids and Family  Comedy  \\\n",
       "1                     0         0        0                0       0   \n",
       "2                     0         0        0                0       0   \n",
       "3                     1         0        0                0       0   \n",
       "4                     0         0        1                0       0   \n",
       "6                     0         0        0                0       1   \n",
       "\n",
       "   Musical and Performing Arts  Western  Art House and International  Horror  \\\n",
       "1                            0        0                            0       0   \n",
       "2                            1        0                            0       0   \n",
       "3                            0        0                            0       0   \n",
       "4                            0        0                            0       0   \n",
       "6                            0        0                            0       0   \n",
       "\n",
       "   Drama  Animation  Documentary  Action and Adventure  \n",
       "1      1          0            0                     0  \n",
       "2      1          0            0                     0  \n",
       "3      1          0            0                     0  \n",
       "4      1          0            0                     0  \n",
       "6      0          0            0                     0  "
      ]
     },
     "execution_count": 384,
     "metadata": {},
     "output_type": "execute_result"
    }
   ],
   "source": [
    "rt.head()"
   ]
  },
  {
   "cell_type": "code",
   "execution_count": 387,
   "metadata": {},
   "outputs": [],
   "source": [
    "box_office_total = []\n",
    "\n",
    "for genre in set_of_lists:\n",
    "    box_office_total.append(rt[rt[genre]==1].box_office.mean())"
   ]
  },
  {
   "cell_type": "code",
   "execution_count": 386,
   "metadata": {},
   "outputs": [
    {
     "data": {
      "text/plain": [
       "[0.0,\n",
       " 162286.2142857143,\n",
       " 25680299.49122807,\n",
       " 10838706.03076923,\n",
       " 146590.9090909091,\n",
       " 11579412.365671642,\n",
       " 25449299.269230768,\n",
       " 11716040.789340101,\n",
       " 3561239.736842105,\n",
       " 2719774.785714286,\n",
       " 261613.23225806453,\n",
       " 3865404.4482758623,\n",
       " 6889880.56779661,\n",
       " 31037477.615384616,\n",
       " 2469843.289473684,\n",
       " 15993491.033018868]"
      ]
     },
     "execution_count": 386,
     "metadata": {},
     "output_type": "execute_result"
    }
   ],
   "source": [
    "box_office_total"
   ]
  },
  {
   "cell_type": "code",
   "execution_count": null,
   "metadata": {},
   "outputs": [],
   "source": []
  }
 ],
 "metadata": {
  "kernelspec": {
   "display_name": "learn-env",
   "language": "python",
   "name": "learn-env"
  },
  "language_info": {
   "codemirror_mode": {
    "name": "ipython",
    "version": 3
   },
   "file_extension": ".py",
   "mimetype": "text/x-python",
   "name": "python",
   "nbconvert_exporter": "python",
   "pygments_lexer": "ipython3",
   "version": "3.6.9"
  }
 },
 "nbformat": 4,
 "nbformat_minor": 4
}
